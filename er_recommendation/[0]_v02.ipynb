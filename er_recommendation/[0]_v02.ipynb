{
 "cells": [
  {
   "cell_type": "code",
   "execution_count": 1,
   "metadata": {},
   "outputs": [],
   "source": [
    "import configparser\n",
    "import pandas as pd\n",
    "from utils.geocode import address_to_coords\n",
    "from utils.filtering_for_addr import AddressFilter\n",
    "from utils.apis import get_hospitals_by_condition, get_real_time_bed_info\n",
    "from utils.direction import calculate_travel_time_and_sort\n",
    "\n",
    "def main(address, conditions_korean=[]):\n",
    "    \"\"\"\n",
    "    병원 데이터 처리 메인 함수\n",
    "    :param address: 사용자 입력 주소 (도로명 주소 형식)\n",
    "    :param conditions: 병원 필터링 조건 목록 (예: [\"MKioskTy8\", \"MKioskTy10\"])\n",
    "    \"\"\"\n",
    "    # 설정 파일 로드\n",
    "    config = configparser.ConfigParser()\n",
    "    config.read('C:/Users/user/Desktop/24-2/졸업프로젝트/project_ai/keys.config')\n",
    "\n",
    "    # AddressFilter 인스턴스 생성\n",
    "    address_filter = AddressFilter('C:/Users/user/Desktop/24-2/졸업프로젝트/project_ai/keys.config')\n",
    "\n",
    "    # 1. 사용자 주소 -> 좌표 변환\n",
    "    api_key = config['API_KEYS']['kakao_api_key']\n",
    "    user_coords = address_to_coords(address, api_key)\n",
    "\n",
    "    if \"error\" in user_coords:\n",
    "        print(f\"오류: {user_coords['error']}\")\n",
    "        return\n",
    "\n",
    "    user_lat = user_coords[\"lat\"]\n",
    "    user_lon = user_coords[\"lon\"]\n",
    "    print(f\"사용자 좌표: 위도 {user_lat}, 경도 {user_lon}\")\n",
    "\n",
    "    # 2. 병원 조건 설정\n",
    "    stage1, stage2 = address.split()[:2]  # Stage1 = 시도, Stage2 = 시군구\n",
    "\n",
    "    # 3. 병원 조건에 맞는 hpid 수집\n",
    "    condition_mapping = {\n",
    "        \"조산산모\": \"MKioskTy8\",\n",
    "        \"정신질환자\": \"MKioskTy9\",\n",
    "        \"신생아\": \"MKioskTy10\",\n",
    "        \"중증화상\": \"MKioskTy11\"\n",
    "    }\n",
    "    # 조건이 없으면 모든 병원을 검색\n",
    "    if not conditions_korean:\n",
    "        print(\"조건이 비어 있습니다. 모든 병원을 검색합니다.\")\n",
    "        conditions = []  # 빈 리스트로 설정\n",
    "    else:\n",
    "        conditions = [condition_mapping[cond] for cond in conditions_korean if cond in condition_mapping]\n",
    "\n",
    "    hpid_list = get_hospitals_by_condition(stage1, stage2, conditions)\n",
    "    if not hpid_list:\n",
    "        print(\"조건에 맞는 병원이 없습니다.\")\n",
    "        return\n",
    "\n",
    "    print(f\"필터링된 병원 목록: {hpid_list}\")\n",
    "\n",
    "    # 4. 실시간 병상 정보 조회\n",
    "    real_time_data = get_real_time_bed_info(stage1, stage2, hpid_list)\n",
    "    if not real_time_data:\n",
    "        print(\"실시간 병상 정보가 없습니다.\")\n",
    "        return\n",
    "\n",
    "    # 5. 병상 정보 DataFrame 생성\n",
    "    df = pd.DataFrame(real_time_data)\n",
    "\n",
    "    # 6. enriched_df 생성 및 저장\n",
    "    enriched_df = address_filter.enrich_filtered_df(df)\n",
    "\n",
    "    # 7. 소요 시간 계산 및 정렬\n",
    "    enriched_df = calculate_travel_time_and_sort(enriched_df, user_lat, user_lon)\n",
    "\n",
    "    # 추가된 칼럼 확인\n",
    "    if \"distance_km\" in enriched_df.columns and \"travel_time_h\" in enriched_df.columns:\n",
    "        print(\"거리와 소요 시간이 추가된 데이터:\")\n",
    "        print(enriched_df[[\"distance_km\", \"travel_time_h\", \"travel_time_m\", \"travel_time_s\"]].head())\n",
    "\n",
    "    # 8. 결과 저장\n",
    "    enriched_df.to_csv(\"enriched_filtered_df.csv\", index=False, encoding=\"utf-8-sig\")\n",
    "    print(\"결과가 'enriched_filtered_df.csv' 파일로 저장되었습니다.\")\n",
    "    \n",
    "    return enriched_df\n"
   ]
  },
  {
   "cell_type": "code",
   "execution_count": 2,
   "metadata": {},
   "outputs": [
    {
     "name": "stdout",
     "output_type": "stream",
     "text": [
      "사용자 좌표: 위도 37.5677264605676, 경도 127.005484601979\n",
      "조건이 비어 있습니다. 모든 병원을 검색합니다.\n",
      "생성된 Redis 키: hospitals:서울:중구:all\n",
      "저장된 hpid Redis 캐시 데이터: [\"A1100052\"]\n",
      "Redis 캐시에서 병원 데이터 로드\n",
      "필터링된 병원 목록: ['A1100052']\n",
      "생성된 Redis 키: real_time_bed_info:A1100052\n",
      "저장된 응급실 Redis 캐시 데이터: {\"dutyName\": \"\\uad6d\\ub9bd\\uc911\\uc559\\uc758\\ub8cc\\uc6d0\", \"dutyTel3\": \"02-2276-2114\", \"hpid\": \"A1100052\", \"hv10\": \"N\", \"hv11\": \"Y\", \"hv22\": \"0\", \"hv25\": \"0\", \"hv26\": \"0\", \"hv27\": \"5\", \"hv28\": \"3\", \"hv29\": \"2\", \"hv3\": \"0\", \"hv30\": \"1\", \"hv31\": \"2\", \"hv35\": \"2\", \"hv36\": \"0\", \"hv38\": \"11\", \"hv39\": \"2\", \"hv41\": \"6\", \"hv42\": \"Y\", \"hv5\": \"Y\", \"hv7\": \"Y\", \"hv9\": \"12\", \"hvamyn\": \"Y\", \"hvangioayn\": \"Y\", \"hvcrrtayn\": \"Y\", \"hvctayn\": \"Y\", \"hvec\": \"12\", \"hvecmoayn\": \"Y\", \"hvgc\": \"84\", \"hvhypoayn\": \"Y\", \"hvicc\": \"8\", \"hvidate\": \"20241231154906\", \"hvincuayn\": \"Y\", \"hvmriayn\": \"Y\", \"hvoc\": \"5\", \"hvoxyayn\": \"N1\", \"hvs01\": \"15\", \"hvs02\": \"3\", \"hvs03\": \"2\", \"hvs04\": \"3\", \"hvs05\": \"6\", \"hvs07\": \"0\", \"hvs14\": \"20\", \"hvs17\": \"13\", \"hvs18\": \"2\", \"hvs19\": \"0\", \"hvs21\": \"50\", \"hvs22\": \"7\", \"hvs23\": \"2\", \"hvs25\": \"7\", \"hvs26\": \"1\", \"hvs27\": \"1\", \"hvs28\": \"1\", \"hvs29\": \"2\", \"hvs30\": \"56\", \"hvs31\": \"1\", \"hvs32\": \"3\", \"hvs33\": \"5\", \"hvs34\": \"5\", \"hvs35\": \"2\", \"hvs38\": \"202\", \"hvs54\": \"0\", \"hvs57\": \"0\", \"hvs58\": \"0\", \"hvs59\": \"5\", \"hvventiayn\": \"Y\", \"hvventisoayn\": \"N\", \"phpid\": \"A1100052\", \"rnum\": \"1\"}\n",
      "Redis에서 A1100052 데이터 로드\n",
      "외상센터 hpid 수집 완료: ['A1700004', 'A2100002', 'A2100040', 'A2200001', 'A2300001', 'A2400002', 'A2500001', 'A2600011', 'A2700014', 'A2800001', 'A2900001', 'A1300002', 'A1400001', 'A1500002', 'A1600002', 'A1100008', 'A1100014', 'A1100017', 'A1100052', 'A1200002']\n",
      "거리와 소요 시간이 추가된 데이터:\n",
      "   distance_km  travel_time_h  travel_time_m  travel_time_s\n",
      "0        0.149              0              0             44\n",
      "결과가 'enriched_filtered_df.csv' 파일로 저장되었습니다.\n",
      "  dutyName                           dutyAddr           wgs84Lat  \\\n",
      "0  국립중앙의료원  서울특별시 중구 을지로 245, 국립중앙의료원 (을지로6가)  37.56733955813183   \n",
      "\n",
      "             wgs84Lon  is_trauma      dutyTel3      hpid hv10 hv11 hv22  ...  \\\n",
      "0  127.00579539705472       True  02-2276-2114  A1100052    N    Y    0  ...   \n",
      "\n",
      "  hvventiayn hvventisoayn     phpid rnum travelTime distance_km congestion  \\\n",
      "0          Y            N  A1100052    1     44.202       0.149     알 수 없음   \n",
      "\n",
      "  travel_time_h travel_time_m travel_time_s  \n",
      "0             0             0            44  \n",
      "\n",
      "[1 rows x 80 columns]\n"
     ]
    }
   ],
   "source": [
    "if __name__ == \"__main__\":\n",
    "    #조산산모(MKioskTy8), 정신질환자(MKioskTy9), 신생아(MKioskTy10), 중증화상(MKioskTy11)\n",
    "    enriched_df = main(address=\"서울 중구 을지로 245\")#, \n",
    "                       #conditions_korean= [\"정신질환자\"] )\n",
    "    if enriched_df is not None:\n",
    "        print(enriched_df.head(5))"
   ]
  },
  {
   "cell_type": "code",
   "execution_count": 3,
   "metadata": {},
   "outputs": [
    {
     "data": {
      "text/plain": [
       "Index(['dutyName', 'dutyAddr', 'wgs84Lat', 'wgs84Lon', 'is_trauma', 'dutyTel3',\n",
       "       'hpid', 'hv10', 'hv11', 'hv22', 'hv25', 'hv26', 'hv27', 'hv28', 'hv29',\n",
       "       'hv3', 'hv30', 'hv31', 'hv35', 'hv36', 'hv38', 'hv39', 'hv41', 'hv42',\n",
       "       'hv5', 'hv7', 'hv9', 'hvamyn', 'hvangioayn', 'hvcrrtayn', 'hvctayn',\n",
       "       'hvec', 'hvecmoayn', 'hvgc', 'hvhypoayn', 'hvicc', 'hvidate',\n",
       "       'hvincuayn', 'hvmriayn', 'hvoc', 'hvoxyayn', 'hvs01', 'hvs02', 'hvs03',\n",
       "       'hvs04', 'hvs05', 'hvs07', 'hvs14', 'hvs17', 'hvs18', 'hvs19', 'hvs21',\n",
       "       'hvs22', 'hvs23', 'hvs25', 'hvs26', 'hvs27', 'hvs28', 'hvs29', 'hvs30',\n",
       "       'hvs31', 'hvs32', 'hvs33', 'hvs34', 'hvs35', 'hvs38', 'hvs54', 'hvs57',\n",
       "       'hvs58', 'hvs59', 'hvventiayn', 'hvventisoayn', 'phpid', 'rnum',\n",
       "       'travelTime', 'distance_km', 'congestion', 'travel_time_h',\n",
       "       'travel_time_m', 'travel_time_s'],\n",
       "      dtype='object')"
      ]
     },
     "execution_count": 3,
     "metadata": {},
     "output_type": "execute_result"
    }
   ],
   "source": [
    "enriched_df.columns"
   ]
  },
  {
   "cell_type": "code",
   "execution_count": 5,
   "metadata": {},
   "outputs": [
    {
     "data": {
      "text/html": [
       "<div>\n",
       "<style scoped>\n",
       "    .dataframe tbody tr th:only-of-type {\n",
       "        vertical-align: middle;\n",
       "    }\n",
       "\n",
       "    .dataframe tbody tr th {\n",
       "        vertical-align: top;\n",
       "    }\n",
       "\n",
       "    .dataframe thead th {\n",
       "        text-align: right;\n",
       "    }\n",
       "</style>\n",
       "<table border=\"1\" class=\"dataframe\">\n",
       "  <thead>\n",
       "    <tr style=\"text-align: right;\">\n",
       "      <th></th>\n",
       "      <th>dutyName</th>\n",
       "      <th>dutyAddr</th>\n",
       "      <th>dutyTel3</th>\n",
       "      <th>distance_km</th>\n",
       "      <th>travel_time_h</th>\n",
       "      <th>travel_time_m</th>\n",
       "      <th>travel_time_s</th>\n",
       "      <th>congestion</th>\n",
       "      <th>hvamyn</th>\n",
       "      <th>is_trauma</th>\n",
       "    </tr>\n",
       "  </thead>\n",
       "  <tbody>\n",
       "    <tr>\n",
       "      <th>0</th>\n",
       "      <td>국립중앙의료원</td>\n",
       "      <td>서울특별시 중구 을지로 245, 국립중앙의료원 (을지로6가)</td>\n",
       "      <td>02-2276-2114</td>\n",
       "      <td>0.149</td>\n",
       "      <td>0</td>\n",
       "      <td>0</td>\n",
       "      <td>44</td>\n",
       "      <td>알 수 없음</td>\n",
       "      <td>Y</td>\n",
       "      <td>True</td>\n",
       "    </tr>\n",
       "  </tbody>\n",
       "</table>\n",
       "</div>"
      ],
      "text/plain": [
       "  dutyName                           dutyAddr      dutyTel3  distance_km  \\\n",
       "0  국립중앙의료원  서울특별시 중구 을지로 245, 국립중앙의료원 (을지로6가)  02-2276-2114        0.149   \n",
       "\n",
       "   travel_time_h  travel_time_m  travel_time_s congestion hvamyn  is_trauma  \n",
       "0              0              0             44     알 수 없음      Y       True  "
      ]
     },
     "execution_count": 5,
     "metadata": {},
     "output_type": "execute_result"
    }
   ],
   "source": [
    "enriched_df[['dutyName','dutyAddr','dutyTel3', \"distance_km\",\n",
    "             \"travel_time_h\", \"travel_time_m\", \"travel_time_s\", 'congestion','hvamyn', 'is_trauma']]"
   ]
  }
 ],
 "metadata": {
  "kernelspec": {
   "display_name": "Python 3",
   "language": "python",
   "name": "python3"
  },
  "language_info": {
   "codemirror_mode": {
    "name": "ipython",
    "version": 3
   },
   "file_extension": ".py",
   "mimetype": "text/x-python",
   "name": "python",
   "nbconvert_exporter": "python",
   "pygments_lexer": "ipython3",
   "version": "3.10.2"
  }
 },
 "nbformat": 4,
 "nbformat_minor": 2
}
