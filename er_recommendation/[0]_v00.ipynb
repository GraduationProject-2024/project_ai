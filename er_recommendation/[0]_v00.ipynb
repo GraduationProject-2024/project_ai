{
 "cells": [
  {
   "cell_type": "code",
   "execution_count": null,
   "metadata": {},
   "outputs": [],
   "source": [
    "#https://www.data.go.kr/data/15000563/openapi.do"
   ]
  },
  {
   "cell_type": "code",
   "execution_count": null,
   "metadata": {},
   "outputs": [],
   "source": [
    "import requests\n",
    "import xmltodict\n",
    "\n",
    "# MySQL에 약국 데이터 저장\n",
    "def save_to_mysql(data):\n",
    "    import pymysql\n",
    "    import configparser\n",
    "\n",
    "    # ConfigParser 초기화\n",
    "    config = configparser.ConfigParser()\n",
    "\n",
    "    # keys.config 파일 읽기\n",
    "    config.read('../keys.config')\n",
    "\n",
    "    import pymysql\n",
    "    connection = pymysql.connect(host = config['DB_INFO']['host'],\n",
    "                        port = 3306,\n",
    "                        user = config['DB_INFO']['id'],\n",
    "                        passwd = config['DB_INFO']['password'],\n",
    "                        db = config['DB_INFO']['db'],\n",
    "                        charset = 'utf8') # 한글 깨짐 방지\n",
    "        \n",
    "    cursor = connection.cursor(pymysql.cursors.DictCursor)\n",
    "\n",
    "    \n",
    "    # 새 데이터 삽입\n",
    "    insert_query = \"\"\"\n",
    "        INSERT INTO pharmacy_data (\n",
    "            dutyAddr, dutyMapimg, dutyName, dutyTel1, \n",
    "            dutyTime1s, dutyTime1c, dutyTime2s, dutyTime2c,\n",
    "            dutyTime3s, dutyTime3c, dutyTime4s, dutyTime4c, dutyTime5s, dutyTime5c, \n",
    "            dutyTime6s, dutyTime6c, dutyTime7s, dutyTime7c, dutyTime8s, dutyTime8c, \n",
    "            postCdn1, postCdn2, wgs84Lat, wgs84Lon, dutyEtc\n",
    "        ) \n",
    "        VALUES (\n",
    "            %s, %s, %s, %s, \n",
    "            %s, %s, %s, %s,\n",
    "            %s, %s, %s, %s, %s, %s, \n",
    "            %s, %s, %s, %s, %s, %s, \n",
    "            %s, %s, %s, %s, %s\n",
    "        )\n",
    "    \"\"\"\n",
    "\n",
    "    cursor.executemany(insert_query, data)\n",
    "    connection.commit()\n",
    "    cursor.close()\n",
    "    connection.close()"
   ]
  }
 ],
 "metadata": {
  "kernelspec": {
   "display_name": "Python 3",
   "language": "python",
   "name": "python3"
  },
  "language_info": {
   "name": "python",
   "version": "3.10.2"
  }
 },
 "nbformat": 4,
 "nbformat_minor": 2
}
